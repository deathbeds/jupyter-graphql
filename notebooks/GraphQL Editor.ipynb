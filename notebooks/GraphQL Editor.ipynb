{
 "cells": [
  {
   "cell_type": "markdown",
   "metadata": {},
   "source": [
    "# JupyterLab GraphQL Editor\n",
    "[jupyterlab-graphql](../packages/jupyterlab-graphql/README.md) provides an interactive development experience similar to the [GraphQL Playground](https://www.graphqlbin.com) or [Graph$i$QL](https://graphql.github.io/swapi-graphql/), but native (ish) to JupyterLab.\n",
    "\n",
    "> There are still some awful hacks"
   ]
  },
  {
   "cell_type": "markdown",
   "metadata": {},
   "source": [
    "## Interactive Examples\n",
    "- [All the files in the `notebooks` directory](./Notebooks.graphql) \n",
    "- [The source of this notebook](./Notebooks.graphql) \n",
    "- [This notebook as markdown](./Markdown.graphql)\n",
    "\n",
    "> You will also need [jupyter-graphql](../README.md) installed and configured, or otherwise start a GraphQL server."
   ]
  }
 ],
 "metadata": {
  "kernelspec": {
   "display_name": "Python 3",
   "language": "python",
   "name": "python3"
  },
  "language_info": {
   "codemirror_mode": {
    "name": "ipython",
    "version": 3
   },
   "file_extension": ".py",
   "mimetype": "text/x-python",
   "name": "python",
   "nbconvert_exporter": "python",
   "pygments_lexer": "ipython3",
   "version": "3.6.7"
  }
 },
 "nbformat": 4,
 "nbformat_minor": 2
}
