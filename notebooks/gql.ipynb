{
 "cells": [
  {
   "cell_type": "markdown",
   "metadata": {},
   "source": [
    "# Query the notebook ContentsManager with GraphQL\n",
    "[<i class=\"fa fa-github\"></i> graphql-python/gql](https://github.com/graphql-python/gql) is the python GraphQL client of the [Graphene](https://graphene-python.org/) family, which  powers the backend (based on [<i class=\"fa fa-github\"></i> dronedeploy/graphene-tornado](https://github.com/dronedeploy/graphene-tornado)). There are a few others, not yet reviewed:\n",
    "- [<i class=\"fa fa-github\"></i> ariebovenberg/quiz](https://github.com/ariebovenberg/quiz)\n",
    "- [<i class=\"fa fa-github\"></i> prisma/python-graphql-client](https://github.com/prisma/python-graphql-client)"
   ]
  },
  {
   "cell_type": "code",
   "execution_count": null,
   "metadata": {},
   "outputs": [],
   "source": [
    "import requests  # should investigate writing a tornado transport\n",
    "from getpass import getpass\n",
    "from gql import Client, gql\n",
    "from gql.transport.requests import RequestsHTTPTransport\n",
    "from IPython.display import JSON\n",
    "from pprint import pprint"
   ]
  },
  {
   "cell_type": "markdown",
   "metadata": {},
   "source": [
    "You'll need your `jupyter notebook` or `jupyter lab` token (view source, look for `\"token\"`)"
   ]
  },
  {
   "cell_type": "code",
   "execution_count": null,
   "metadata": {},
   "outputs": [],
   "source": [
    "token = getpass()"
   ]
  },
  {
   "cell_type": "markdown",
   "metadata": {},
   "source": [
    "Update to suit!"
   ]
  },
  {
   "cell_type": "code",
   "execution_count": null,
   "metadata": {},
   "outputs": [],
   "source": [
    "URL = \"http://localhost:8888/graphql\""
   ]
  },
  {
   "cell_type": "markdown",
   "metadata": {},
   "source": [
    "Make a client!"
   ]
  },
  {
   "cell_type": "code",
   "execution_count": null,
   "metadata": {},
   "outputs": [],
   "source": [
    "client = Client(\n",
    "    transport=RequestsHTTPTransport(URL, use_json=True, headers=dict(Authorization=f\"token {token}\")),\n",
    "    fetch_schema_from_transport=True,\n",
    ")"
   ]
  },
  {
   "cell_type": "markdown",
   "metadata": {},
   "source": [
    "Make a query!"
   ]
  },
  {
   "cell_type": "code",
   "execution_count": null,
   "metadata": {},
   "outputs": [],
   "source": [
    "query = gql('''\n",
    "query {\n",
    "  contents(path: \"notebooks/gql.ipynb\") {\n",
    "    ... on NotebookContents {\n",
    "      path\n",
    "      content {\n",
    "        nbformat\n",
    "        nbformat_minor\n",
    "        cells {\n",
    "          edges {\n",
    "            node {\n",
    "              source\n",
    "            }\n",
    "          }\n",
    "        }\n",
    "      }\n",
    "    }\n",
    "  }\n",
    "}\n",
    "''')\n",
    "query"
   ]
  },
  {
   "cell_type": "markdown",
   "metadata": {},
   "source": [
    "Whatever that means. Lets actually run it!"
   ]
  },
  {
   "cell_type": "code",
   "execution_count": null,
   "metadata": {},
   "outputs": [],
   "source": [
    "result = client.execute(query)\n",
    "JSON(result)"
   ]
  },
  {
   "cell_type": "markdown",
   "metadata": {},
   "source": [
    "Where can you go from here?"
   ]
  }
 ],
 "metadata": {
  "kernelspec": {
   "display_name": "Python 3",
   "language": "python",
   "name": "python3"
  },
  "language_info": {
   "codemirror_mode": {
    "name": "ipython",
    "version": 3
   },
   "file_extension": ".py",
   "mimetype": "text/x-python",
   "name": "python",
   "nbconvert_exporter": "python",
   "pygments_lexer": "ipython3",
   "version": "3.6.6"
  }
 },
 "nbformat": 4,
 "nbformat_minor": 2
}
